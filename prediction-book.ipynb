{
 "cells": [
  {
   "cell_type": "markdown",
   "metadata": {},
   "source": [
    "### Prediction Stock BRI data with SVR, ANN, LSTM"
   ]
  },
  {
   "cell_type": "code",
   "execution_count": 1,
   "metadata": {},
   "outputs": [],
   "source": [
    "from sklearn.model_selection import train_test_split\n",
    "from sklearn.linear_model import LinearRegression\n",
    "from sklearn.svm import SVR\n",
    "from sklearn.metrics import r2_score, mean_squared_error\n",
    "\n",
    "from tensorflow.keras.models import Sequential\n",
    "from tensorflow.keras.layers import LSTM\n",
    "from tensorflow.keras.layers import Dense\n",
    "from tensorflow.keras.layers import Dropout\n",
    "from tensorflow.keras.layers import concatenate\n",
    "from tensorflow.keras.callbacks import EarlyStopping\n",
    "\n",
    "import pandas as pd\n",
    "import numpy as np\n",
    "import matplotlib\n",
    "import matplotlib.pyplot as plt\n",
    "\n",
    "import math\n",
    "\n",
    "\n",
    "matplotlib.use('Agg')\n",
    "%matplotlib inline\n",
    "np.random.seed(11)"
   ]
  },
  {
   "cell_type": "code",
   "execution_count": 2,
   "metadata": {},
   "outputs": [],
   "source": [
    "df = pd.read_csv('data/bbri.csv', usecols=[0,4]);"
   ]
  },
  {
   "cell_type": "code",
   "execution_count": 3,
   "metadata": {},
   "outputs": [
    {
     "data": {
      "text/html": [
       "<div>\n",
       "<style scoped>\n",
       "    .dataframe tbody tr th:only-of-type {\n",
       "        vertical-align: middle;\n",
       "    }\n",
       "\n",
       "    .dataframe tbody tr th {\n",
       "        vertical-align: top;\n",
       "    }\n",
       "\n",
       "    .dataframe thead th {\n",
       "        text-align: right;\n",
       "    }\n",
       "</style>\n",
       "<table border=\"1\" class=\"dataframe\">\n",
       "  <thead>\n",
       "    <tr style=\"text-align: right;\">\n",
       "      <th></th>\n",
       "      <th>Close</th>\n",
       "    </tr>\n",
       "    <tr>\n",
       "      <th>Date</th>\n",
       "      <th></th>\n",
       "    </tr>\n",
       "  </thead>\n",
       "  <tbody>\n",
       "    <tr>\n",
       "      <th>2020-01-20</th>\n",
       "      <td>4660.0</td>\n",
       "    </tr>\n",
       "    <tr>\n",
       "      <th>2020-01-21</th>\n",
       "      <td>4670.0</td>\n",
       "    </tr>\n",
       "    <tr>\n",
       "      <th>2020-01-22</th>\n",
       "      <td>4710.0</td>\n",
       "    </tr>\n",
       "    <tr>\n",
       "      <th>2020-01-23</th>\n",
       "      <td>4740.0</td>\n",
       "    </tr>\n",
       "    <tr>\n",
       "      <th>2020-01-24</th>\n",
       "      <td>4740.0</td>\n",
       "    </tr>\n",
       "    <tr>\n",
       "      <th>...</th>\n",
       "      <td>...</td>\n",
       "    </tr>\n",
       "    <tr>\n",
       "      <th>2020-11-09</th>\n",
       "      <td>3690.0</td>\n",
       "    </tr>\n",
       "    <tr>\n",
       "      <th>2020-11-10</th>\n",
       "      <td>4000.0</td>\n",
       "    </tr>\n",
       "    <tr>\n",
       "      <th>2020-11-11</th>\n",
       "      <td>4120.0</td>\n",
       "    </tr>\n",
       "    <tr>\n",
       "      <th>2020-11-12</th>\n",
       "      <td>3950.0</td>\n",
       "    </tr>\n",
       "    <tr>\n",
       "      <th>2020-11-13</th>\n",
       "      <td>4000.0</td>\n",
       "    </tr>\n",
       "  </tbody>\n",
       "</table>\n",
       "<p>200 rows × 1 columns</p>\n",
       "</div>"
      ],
      "text/plain": [
       "             Close\n",
       "Date              \n",
       "2020-01-20  4660.0\n",
       "2020-01-21  4670.0\n",
       "2020-01-22  4710.0\n",
       "2020-01-23  4740.0\n",
       "2020-01-24  4740.0\n",
       "...            ...\n",
       "2020-11-09  3690.0\n",
       "2020-11-10  4000.0\n",
       "2020-11-11  4120.0\n",
       "2020-11-12  3950.0\n",
       "2020-11-13  4000.0\n",
       "\n",
       "[200 rows x 1 columns]"
      ]
     },
     "execution_count": 3,
     "metadata": {},
     "output_type": "execute_result"
    }
   ],
   "source": [
    "df = df.set_index('Date')\n",
    "df"
   ]
  },
  {
   "cell_type": "code",
   "execution_count": 4,
   "metadata": {},
   "outputs": [],
   "source": [
    "df['pred'] = df.Close.shift(-1)"
   ]
  },
  {
   "cell_type": "code",
   "execution_count": 5,
   "metadata": {},
   "outputs": [
    {
     "data": {
      "text/html": [
       "<div>\n",
       "<style scoped>\n",
       "    .dataframe tbody tr th:only-of-type {\n",
       "        vertical-align: middle;\n",
       "    }\n",
       "\n",
       "    .dataframe tbody tr th {\n",
       "        vertical-align: top;\n",
       "    }\n",
       "\n",
       "    .dataframe thead th {\n",
       "        text-align: right;\n",
       "    }\n",
       "</style>\n",
       "<table border=\"1\" class=\"dataframe\">\n",
       "  <thead>\n",
       "    <tr style=\"text-align: right;\">\n",
       "      <th></th>\n",
       "      <th>Close</th>\n",
       "      <th>pred</th>\n",
       "    </tr>\n",
       "    <tr>\n",
       "      <th>Date</th>\n",
       "      <th></th>\n",
       "      <th></th>\n",
       "    </tr>\n",
       "  </thead>\n",
       "  <tbody>\n",
       "    <tr>\n",
       "      <th>2020-01-20</th>\n",
       "      <td>4660.0</td>\n",
       "      <td>4670.0</td>\n",
       "    </tr>\n",
       "    <tr>\n",
       "      <th>2020-01-21</th>\n",
       "      <td>4670.0</td>\n",
       "      <td>4710.0</td>\n",
       "    </tr>\n",
       "    <tr>\n",
       "      <th>2020-01-22</th>\n",
       "      <td>4710.0</td>\n",
       "      <td>4740.0</td>\n",
       "    </tr>\n",
       "    <tr>\n",
       "      <th>2020-01-23</th>\n",
       "      <td>4740.0</td>\n",
       "      <td>4740.0</td>\n",
       "    </tr>\n",
       "    <tr>\n",
       "      <th>2020-01-24</th>\n",
       "      <td>4740.0</td>\n",
       "      <td>4650.0</td>\n",
       "    </tr>\n",
       "    <tr>\n",
       "      <th>...</th>\n",
       "      <td>...</td>\n",
       "      <td>...</td>\n",
       "    </tr>\n",
       "    <tr>\n",
       "      <th>2020-11-09</th>\n",
       "      <td>3690.0</td>\n",
       "      <td>4000.0</td>\n",
       "    </tr>\n",
       "    <tr>\n",
       "      <th>2020-11-10</th>\n",
       "      <td>4000.0</td>\n",
       "      <td>4120.0</td>\n",
       "    </tr>\n",
       "    <tr>\n",
       "      <th>2020-11-11</th>\n",
       "      <td>4120.0</td>\n",
       "      <td>3950.0</td>\n",
       "    </tr>\n",
       "    <tr>\n",
       "      <th>2020-11-12</th>\n",
       "      <td>3950.0</td>\n",
       "      <td>4000.0</td>\n",
       "    </tr>\n",
       "    <tr>\n",
       "      <th>2020-11-13</th>\n",
       "      <td>4000.0</td>\n",
       "      <td>NaN</td>\n",
       "    </tr>\n",
       "  </tbody>\n",
       "</table>\n",
       "<p>200 rows × 2 columns</p>\n",
       "</div>"
      ],
      "text/plain": [
       "             Close    pred\n",
       "Date                      \n",
       "2020-01-20  4660.0  4670.0\n",
       "2020-01-21  4670.0  4710.0\n",
       "2020-01-22  4710.0  4740.0\n",
       "2020-01-23  4740.0  4740.0\n",
       "2020-01-24  4740.0  4650.0\n",
       "...            ...     ...\n",
       "2020-11-09  3690.0  4000.0\n",
       "2020-11-10  4000.0  4120.0\n",
       "2020-11-11  4120.0  3950.0\n",
       "2020-11-12  3950.0  4000.0\n",
       "2020-11-13  4000.0     NaN\n",
       "\n",
       "[200 rows x 2 columns]"
      ]
     },
     "execution_count": 5,
     "metadata": {},
     "output_type": "execute_result"
    }
   ],
   "source": [
    "df"
   ]
  },
  {
   "cell_type": "code",
   "execution_count": 6,
   "metadata": {},
   "outputs": [],
   "source": [
    "df_new = df.dropna()"
   ]
  },
  {
   "cell_type": "code",
   "execution_count": 7,
   "metadata": {},
   "outputs": [
    {
     "data": {
      "text/html": [
       "<div>\n",
       "<style scoped>\n",
       "    .dataframe tbody tr th:only-of-type {\n",
       "        vertical-align: middle;\n",
       "    }\n",
       "\n",
       "    .dataframe tbody tr th {\n",
       "        vertical-align: top;\n",
       "    }\n",
       "\n",
       "    .dataframe thead th {\n",
       "        text-align: right;\n",
       "    }\n",
       "</style>\n",
       "<table border=\"1\" class=\"dataframe\">\n",
       "  <thead>\n",
       "    <tr style=\"text-align: right;\">\n",
       "      <th></th>\n",
       "      <th>Close</th>\n",
       "      <th>pred</th>\n",
       "    </tr>\n",
       "  </thead>\n",
       "  <tbody>\n",
       "    <tr>\n",
       "      <th>count</th>\n",
       "      <td>200.000000</td>\n",
       "      <td>199.000000</td>\n",
       "    </tr>\n",
       "    <tr>\n",
       "      <th>mean</th>\n",
       "      <td>3360.200000</td>\n",
       "      <td>3353.668342</td>\n",
       "    </tr>\n",
       "    <tr>\n",
       "      <th>std</th>\n",
       "      <td>611.595623</td>\n",
       "      <td>606.104560</td>\n",
       "    </tr>\n",
       "    <tr>\n",
       "      <th>min</th>\n",
       "      <td>2170.000000</td>\n",
       "      <td>2170.000000</td>\n",
       "    </tr>\n",
       "    <tr>\n",
       "      <th>25%</th>\n",
       "      <td>3030.000000</td>\n",
       "      <td>3030.000000</td>\n",
       "    </tr>\n",
       "    <tr>\n",
       "      <th>50%</th>\n",
       "      <td>3160.000000</td>\n",
       "      <td>3160.000000</td>\n",
       "    </tr>\n",
       "    <tr>\n",
       "      <th>75%</th>\n",
       "      <td>3617.500000</td>\n",
       "      <td>3610.000000</td>\n",
       "    </tr>\n",
       "    <tr>\n",
       "      <th>max</th>\n",
       "      <td>4740.000000</td>\n",
       "      <td>4740.000000</td>\n",
       "    </tr>\n",
       "  </tbody>\n",
       "</table>\n",
       "</div>"
      ],
      "text/plain": [
       "             Close         pred\n",
       "count   200.000000   199.000000\n",
       "mean   3360.200000  3353.668342\n",
       "std     611.595623   606.104560\n",
       "min    2170.000000  2170.000000\n",
       "25%    3030.000000  3030.000000\n",
       "50%    3160.000000  3160.000000\n",
       "75%    3617.500000  3610.000000\n",
       "max    4740.000000  4740.000000"
      ]
     },
     "execution_count": 7,
     "metadata": {},
     "output_type": "execute_result"
    }
   ],
   "source": [
    "df.describe()"
   ]
  },
  {
   "cell_type": "markdown",
   "metadata": {},
   "source": [
    "### convert data to float"
   ]
  },
  {
   "cell_type": "code",
   "execution_count": 8,
   "metadata": {},
   "outputs": [
    {
     "data": {
      "text/plain": [
       "array([4660., 4670., 4710., 4740., 4740., 4650., 4620., 4620., 4580.,\n",
       "       4460., 4460., 4560., 4560., 4550., 4550., 4500., 4510., 4530.,\n",
       "       4570., 4550., 4470., 4400., 4480., 4560., 4510., 4490., 4500.,\n",
       "       4480., 4130., 4190., 3980., 4100., 4220., 4150., 4010., 3750.,\n",
       "       3910., 3910., 3610., 3720., 3500., 3260., 3140., 2930., 2810.,\n",
       "       2620., 2440., 2940., 3230., 3010., 3020., 2930., 2870., 2890.,\n",
       "       3020., 3030., 2820., 2790., 2770., 2900., 2760., 2610., 2830.,\n",
       "       2780., 2720., 2790., 2800., 2630., 2660., 2590., 2580., 2730.,\n",
       "       2630., 2630., 2620., 2590., 2620., 2490., 2470., 2350., 2240.,\n",
       "       2170., 2370., 2480., 2520., 2630., 2730., 2950., 3180., 3100.,\n",
       "       3060., 3110., 3300., 3210., 3030., 2970., 3030., 2900., 3130.,\n",
       "       3100., 3050., 3100., 3060., 3010., 3120., 3060., 3030., 3040.,\n",
       "       3030., 3060., 3060., 3050., 3040., 3030., 3190., 3140., 3110.,\n",
       "       3160., 3170., 3130., 3140., 3100., 3050., 3150., 3100., 3140.,\n",
       "       3090., 3150., 3140., 3120., 3160., 2990., 3080., 3080., 3110.,\n",
       "       3110., 3130., 3190., 3350., 3330., 3340., 3520., 3560., 3640.,\n",
       "       3800., 3740., 3700., 3690., 3510., 3610., 3660., 3580., 3550.,\n",
       "       3510., 3520., 3410., 3180., 3250., 3440., 3330., 3260., 3200.,\n",
       "       3220., 3190., 3130., 3080., 3030., 3160., 3090., 3040., 3040.,\n",
       "       3160., 3100., 3160., 3190., 3120., 3150., 3150., 3190., 3280.,\n",
       "       3360., 3310., 3250., 3280., 3250., 3240., 3300., 3290., 3340.,\n",
       "       3360., 3380., 3380., 3290., 3490., 3560., 3690., 4000., 4120.,\n",
       "       3950.])"
      ]
     },
     "execution_count": 8,
     "metadata": {},
     "output_type": "execute_result"
    }
   ],
   "source": [
    "values = df_new.values\n",
    "values = values.astype('float32')\n",
    "len(values)\n",
    "df_new['Close'].values"
   ]
  },
  {
   "cell_type": "code",
   "execution_count": 9,
   "metadata": {},
   "outputs": [
    {
     "name": "stdout",
     "output_type": "stream",
     "text": [
      "Min: 2170.0\n",
      "Max: 4740.0\n"
     ]
    }
   ],
   "source": [
    "print(\"Min:\",np.min(values))\n",
    "print(\"Max:\",np.max(values))"
   ]
  },
  {
   "cell_type": "code",
   "execution_count": 10,
   "metadata": {},
   "outputs": [
    {
     "name": "stdout",
     "output_type": "stream",
     "text": [
      "199 199\n"
     ]
    }
   ],
   "source": [
    "from sklearn.preprocessing import MinMaxScaler\n",
    "scaler = MinMaxScaler(feature_range = (0,1))\n",
    "scaled = scaler.fit_transform(values)\n",
    "scaled = pd.DataFrame(scaled)\n",
    "\n",
    "\n",
    "X = np.array(scaled[0])\n",
    "y = np.array(scaled[1])\n",
    "\n",
    "print(len(X.reshape(-1,1)), len(X))"
   ]
  },
  {
   "cell_type": "code",
   "execution_count": 18,
   "metadata": {},
   "outputs": [
    {
     "data": {
      "text/plain": [
       "(159,)"
      ]
     },
     "execution_count": 18,
     "metadata": {},
     "output_type": "execute_result"
    }
   ],
   "source": [
    "X_train, X_test, y_train, y_test = train_test_split(X.reshape(-1,1),y, test_size=0.2, random_state=True)\n",
    "\n",
    "### Without Scaled Data\n",
    "# X_train, X_test, y_train, y_test = train_test_split(df_new['Close'].values.reshape(-1,1),df_new['pred'].values, test_size=0.2, random_state=True)\n",
    "y_train.shape"
   ]
  },
  {
   "cell_type": "code",
   "execution_count": 12,
   "metadata": {},
   "outputs": [],
   "source": [
    "def model(type):\n",
    "    \n",
    "    if type == 'svm':\n",
    "        models = SVR(kernel='rbf', C=1e3, gamma=0.1)\n",
    "    elif type == 'ann':\n",
    "        models = Sequential()\n",
    "        models.add(Dense(10, input_dim=1, activation='relu', use_bias=True, bias_initializer='ones')) #inisialisasi input layer dan hidden layer\n",
    "        models.add(Dense(10, activation='relu', use_bias=True, bias_initializer='ones')) #hidden layer 2\n",
    "        models.add(Dense(1, activation='relu')) #inisialisasi output layer\n",
    "        models.compile(loss='mean_squared_error', optimizer='adam')\n",
    "        models.summary()\n",
    "    elif type == 'lstm':\n",
    "        models = Sequential()\n",
    "        models.add(LSTM(units=4,return_sequences=True, input_shape=(1,1)))\n",
    "        models.add(Dropout(0.2))\n",
    "        \n",
    "        models.add(LSTM(units=4))\n",
    "        models.add(Dropout(0.2))\n",
    "        \n",
    "        models.add(Dense(1))\n",
    "        models.compile(loss='mean_squared_error', optimizer='adam')\n",
    "        models.summary()\n",
    "    return models"
   ]
  },
  {
   "cell_type": "code",
   "execution_count": 20,
   "metadata": {},
   "outputs": [],
   "source": [
    "def plot_forecast(dataset,train, test, model, plotName):\n",
    "    # plotting train data\n",
    "    trainPredictPlot = np.zeros(shape=(len(train)+1,1))\n",
    "    trainPredictPlot = [ i[0] for i in train]\n",
    "    trainPredictPlot = [np.nan]+trainPredictPlot\n",
    "    \n",
    "    testPredictPlot = [np.nan for i in trainPredictPlot]+[ i[0] for i in test]\n",
    "\n",
    "    # Show Plot\n",
    "    plt.title(plotName)\n",
    "    plt.plot(dataset)\n",
    "    plt.plot(trainPredictPlot)\n",
    "    plt.plot(testPredictPlot)\n",
    "    plt.savefig('output/{}_graph.png'.format(model))\n",
    "    plt.show()"
   ]
  },
  {
   "cell_type": "markdown",
   "metadata": {},
   "source": [
    "### SVM Model"
   ]
  },
  {
   "cell_type": "code",
   "execution_count": 21,
   "metadata": {},
   "outputs": [],
   "source": [
    "svm = model('svm')"
   ]
  },
  {
   "cell_type": "code",
   "execution_count": 22,
   "metadata": {},
   "outputs": [
    {
     "data": {
      "text/plain": [
       "SVR(C=1000.0, cache_size=200, coef0=0.0, degree=3, epsilon=0.1, gamma=0.1,\n",
       "    kernel='rbf', max_iter=-1, shrinking=True, tol=0.001, verbose=False)"
      ]
     },
     "execution_count": 22,
     "metadata": {},
     "output_type": "execute_result"
    }
   ],
   "source": [
    "svm.fit(X_train,y_train)"
   ]
  },
  {
   "cell_type": "code",
   "execution_count": 23,
   "metadata": {},
   "outputs": [
    {
     "name": "stdout",
     "output_type": "stream",
     "text": [
      "svm confidence:  0.9426214772626347\n"
     ]
    }
   ],
   "source": [
    "svm_confidence = svm.score(X_test, y_test)\n",
    "print(\"svm confidence: \", svm_confidence)"
   ]
  },
  {
   "cell_type": "code",
   "execution_count": 24,
   "metadata": {},
   "outputs": [],
   "source": [
    "y_pred_svm = svm.predict(X_test)\n",
    "\n",
    "y_pred_svm = np.reshape(y_pred_svm,(len(y_pred_svm),1))\n",
    "\n",
    "yPredTemp = np.zeros(shape=(len(y_pred_svm), 2))\n",
    "yPredTemp[:,0] = y_pred_svm[:,0]\n",
    "y_pred_svm_decode = scaler.inverse_transform(yPredTemp)[:,0]\n",
    "\n",
    "\n",
    "trainPredictSvm = svm.predict(X_train)\n",
    "trainPredictSvm = np.reshape(trainPredictSvm,(len(trainPredictSvm),1))\n",
    "\n",
    "trainPredTempSvm = np.zeros(shape=(len(trainPredictSvm), 2))\n",
    "trainPredTempSvm[:,0] = trainPredictSvm[:,0]\n",
    "trainPredictSvm_decode = scaler.inverse_transform(trainPredTempSvm)[:,0]"
   ]
  },
  {
   "cell_type": "code",
   "execution_count": 25,
   "metadata": {},
   "outputs": [
    {
     "name": "stdout",
     "output_type": "stream",
     "text": [
      "Test Score: 0.003 MSE (0.052 RMSE) SVM\n"
     ]
    }
   ],
   "source": [
    "mse_svm = mean_squared_error(y_test, y_pred_svm)\n",
    "rmse_svm = np.sqrt(mse_svm)\n",
    "\n",
    "print('Test Score: %.3f MSE (%.3f RMSE) SVM' % (mse_svm, rmse_svm))"
   ]
  },
  {
   "cell_type": "markdown",
   "metadata": {},
   "source": [
    "#### plot SVM model"
   ]
  },
  {
   "cell_type": "code",
   "execution_count": 26,
   "metadata": {},
   "outputs": [
    {
     "data": {
      "image/png": "[encoded data removed]",
      "text/plain": [
       "<Figure size 432x288 with 1 Axes>"
      ]
     },
     "metadata": {
      "needs_background": "light"
     },
     "output_type": "display_data"
    }
   ],
   "source": [
    "plot_forecast(df['Close'].values, trainPredictSvm_decode.reshape(-1,1),y_pred_svm_decode.reshape(-1,1),'svm','SVM')"
   ]
  },
  {
   "cell_type": "markdown",
   "metadata": {},
   "source": [
    "### ANN Model"
   ]
  },
  {
   "cell_type": "code",
   "execution_count": 44,
   "metadata": {},
   "outputs": [
    {
     "name": "stdout",
     "output_type": "stream",
     "text": [
      "Model: \"sequential_2\"\n",
      "_________________________________________________________________\n",
      "Layer (type)                 Output Shape              Param #   \n",
      "=================================================================\n",
      "dense_4 (Dense)              (None, 10)                20        \n",
      "_________________________________________________________________\n",
      "dense_5 (Dense)              (None, 10)                110       \n",
      "_________________________________________________________________\n",
      "dense_6 (Dense)              (None, 1)                 11        \n",
      "=================================================================\n",
      "Total params: 141\n",
      "Trainable params: 141\n",
      "Non-trainable params: 0\n",
      "_________________________________________________________________\n"
     ]
    }
   ],
   "source": [
    "ann = model('ann')"
   ]
  },
  {
   "cell_type": "code",
   "execution_count": 45,
   "metadata": {},
   "outputs": [
    {
     "name": "stdout",
     "output_type": "stream",
     "text": [
      "Epoch 1/10\n",
      "159/159 [==============================] - 0s 937us/step - loss: 0.0870 - val_loss: 0.0530\n",
      "Epoch 2/10\n",
      "159/159 [==============================] - 0s 884us/step - loss: 0.0502 - val_loss: 0.0299\n",
      "Epoch 3/10\n",
      "159/159 [==============================] - 0s 849us/step - loss: 0.0274 - val_loss: 0.0153\n",
      "Epoch 4/10\n",
      "159/159 [==============================] - 0s 849us/step - loss: 0.0135 - val_loss: 0.0071\n",
      "Epoch 5/10\n",
      "159/159 [==============================] - 0s 823us/step - loss: 0.0062 - val_loss: 0.0036\n",
      "Epoch 6/10\n",
      "159/159 [==============================] - 0s 821us/step - loss: 0.0033 - val_loss: 0.0026\n",
      "Epoch 7/10\n",
      "159/159 [==============================] - 0s 785us/step - loss: 0.0024 - val_loss: 0.0025\n",
      "Epoch 8/10\n",
      "159/159 [==============================] - 0s 820us/step - loss: 0.0023 - val_loss: 0.0025\n",
      "Epoch 9/10\n",
      "159/159 [==============================] - 0s 999us/step - loss: 0.0024 - val_loss: 0.0026\n",
      "Epoch 10/10\n",
      "159/159 [==============================] - 0s 1ms/step - loss: 0.0025 - val_loss: 0.0027\n"
     ]
    }
   ],
   "source": [
    "# history_ann = ann.fit(X_train, y_train, epochs = 10, batch_size=32,\n",
    "#                          validation_data=(X_test,y_test),\n",
    "#                          verbose=1, callbacks=[EarlyStopping(monitor='val_loss', patience=10)],shuffle=False)\n",
    "history_ann = ann.fit(X_train,y_train, epochs=10,\n",
    "                      batch_size=1,\n",
    "                      validation_data=(X_test,y_test),\n",
    "                      verbose=1, callbacks=[EarlyStopping(monitor='val_loss', patience=10)], shuffle=False)"
   ]
  },
  {
   "cell_type": "code",
   "execution_count": 46,
   "metadata": {},
   "outputs": [
    {
     "name": "stdout",
     "output_type": "stream",
     "text": [
      "Train Score: 0.002 MSE (0.042 RMSE) ANN\n",
      "Test Score: 0.003 MSE (0.052 RMSE) ANN\n"
     ]
    }
   ],
   "source": [
    "trainScoreAnn = ann.evaluate(X_train, y_train, verbose=0)\n",
    "print('Train Score: %.3f MSE (%.3f RMSE) ANN' % (trainScoreAnn, math.sqrt(trainScoreAnn)))\n",
    "\n",
    "testScoreAnn = ann.evaluate(X_test, y_test, verbose=0)\n",
    "print('Test Score: %.3f MSE (%.3f RMSE) ANN' % (testScoreAnn, math.sqrt(testScoreAnn)))"
   ]
  },
  {
   "cell_type": "code",
   "execution_count": 47,
   "metadata": {},
   "outputs": [],
   "source": [
    "trainPredictAnn = ann.predict(X_train)\n",
    "testPredictAnn = ann.predict(X_test)\n",
    "\n",
    "trainPredictTempAnn = np.zeros(shape=(len(trainPredictAnn), 2))\n",
    "trainPredictTempAnn[:,0] = trainPredictAnn[:,0]\n",
    "trainPredictAnn = scaler.inverse_transform(trainPredictTempAnn)[:,0]\n",
    "\n",
    "\n",
    "testPredictTempAnn = np.zeros(shape=(len(testPredictAnn), 2))\n",
    "testPredictTempAnn[:,0] = testPredictAnn[:,0]\n",
    "testPredictAnn = scaler.inverse_transform(testPredictTempAnn)[:,0]"
   ]
  },
  {
   "cell_type": "code",
   "execution_count": 48,
   "metadata": {},
   "outputs": [],
   "source": [
    "def save_history(history,model,name):\n",
    "            \n",
    "    # save history\n",
    "    loss_history = history.history[\"loss\"]\n",
    "    testing_loss_history = history.history[\"val_loss\"]\n",
    "\n",
    "    loss = np.array(loss_history)\n",
    "    np.savetxt(\"output/loss_history_{}.txt\".format(name), loss, delimiter=\",\")\n",
    "\n",
    "    tes_loss = np.array(testing_loss_history)\n",
    "    np.savetxt(\"output/testing_loss_history_{}.txt\".format(name), tes_loss, delimiter=\",\")\n",
    "\n",
    "    model_json = model.to_json()\n",
    "    with open(\"output/model_{}.json\".format(name), \"w\") as json_file:\n",
    "        json_file.write(model_json)\n",
    "\n",
    "    model.save_weights('output/model_{}.h5'.format(name))\n",
    "    \n",
    "    return 'loss history {} dan model {} saved!'.format(name,name)"
   ]
  },
  {
   "cell_type": "code",
   "execution_count": 49,
   "metadata": {},
   "outputs": [
    {
     "data": {
      "text/plain": [
       "'loss history ann dan model ann saved!'"
      ]
     },
     "execution_count": 49,
     "metadata": {},
     "output_type": "execute_result"
    }
   ],
   "source": [
    "save_history(history_ann,ann,'ann')"
   ]
  },
  {
   "cell_type": "markdown",
   "metadata": {},
   "source": [
    "#### plot Ann model"
   ]
  },
  {
   "cell_type": "code",
   "execution_count": 50,
   "metadata": {},
   "outputs": [
    {
     "data": {
      "image/png": "[encoded data removed]",
      "text/plain": [
       "<Figure size 432x288 with 1 Axes>"
      ]
     },
     "metadata": {
      "needs_background": "light"
     },
     "output_type": "display_data"
    }
   ],
   "source": [
    "plt.title('ANN Loss')\n",
    "plt.plot(history_ann.history['loss'],label='train')\n",
    "plt.plot(history_ann.history['val_loss'],label='test')\n",
    "plt.legend()\n",
    "plt.savefig('output/ann_loss.png')\n",
    "plt.show()"
   ]
  },
  {
   "cell_type": "markdown",
   "metadata": {},
   "source": [
    "### LSTM Model"
   ]
  },
  {
   "cell_type": "code",
   "execution_count": 51,
   "metadata": {},
   "outputs": [
    {
     "name": "stdout",
     "output_type": "stream",
     "text": [
      "Model: \"sequential_3\"\n",
      "_________________________________________________________________\n",
      "Layer (type)                 Output Shape              Param #   \n",
      "=================================================================\n",
      "lstm_2 (LSTM)                (None, 1, 4)              96        \n",
      "_________________________________________________________________\n",
      "dropout_2 (Dropout)          (None, 1, 4)              0         \n",
      "_________________________________________________________________\n",
      "lstm_3 (LSTM)                (None, 4)                 144       \n",
      "_________________________________________________________________\n",
      "dropout_3 (Dropout)          (None, 4)                 0         \n",
      "_________________________________________________________________\n",
      "dense_7 (Dense)              (None, 1)                 5         \n",
      "=================================================================\n",
      "Total params: 245\n",
      "Trainable params: 245\n",
      "Non-trainable params: 0\n",
      "_________________________________________________________________\n"
     ]
    }
   ],
   "source": [
    "lstm = model('lstm')"
   ]
  },
  {
   "cell_type": "code",
   "execution_count": 52,
   "metadata": {},
   "outputs": [
    {
     "data": {
      "text/plain": [
       "((159, 1, 1), (40, 1, 1))"
      ]
     },
     "execution_count": 52,
     "metadata": {},
     "output_type": "execute_result"
    }
   ],
   "source": [
    "X_train = np.reshape(X_train,(X_train.shape[0],1,X_train.shape[1]))\n",
    "X_test = np.reshape(X_test,(X_test.shape[0],1,X_test.shape[1]))\n",
    "X_train.shape,X_test.shape"
   ]
  },
  {
   "cell_type": "code",
   "execution_count": 53,
   "metadata": {},
   "outputs": [
    {
     "name": "stdout",
     "output_type": "stream",
     "text": [
      "Epoch 1/10\n",
      "159/159 [==============================] - 1s 5ms/step - loss: 0.1348 - val_loss: 0.0671\n",
      "Epoch 2/10\n",
      "159/159 [==============================] - 0s 2ms/step - loss: 0.0542 - val_loss: 0.0330\n",
      "Epoch 3/10\n",
      "159/159 [==============================] - 0s 2ms/step - loss: 0.0408 - val_loss: 0.0283\n",
      "Epoch 4/10\n",
      "159/159 [==============================] - 0s 2ms/step - loss: 0.0442 - val_loss: 0.0247\n",
      "Epoch 5/10\n",
      "159/159 [==============================] - 0s 2ms/step - loss: 0.0384 - val_loss: 0.0206\n",
      "Epoch 6/10\n",
      "159/159 [==============================] - 0s 2ms/step - loss: 0.0297 - val_loss: 0.0163\n",
      "Epoch 7/10\n",
      "159/159 [==============================] - 0s 2ms/step - loss: 0.0314 - val_loss: 0.0129\n",
      "Epoch 8/10\n",
      "159/159 [==============================] - 0s 2ms/step - loss: 0.0198 - val_loss: 0.0102\n",
      "Epoch 9/10\n",
      "159/159 [==============================] - 0s 2ms/step - loss: 0.0228 - val_loss: 0.0075\n",
      "Epoch 10/10\n",
      "159/159 [==============================] - 0s 2ms/step - loss: 0.0179 - val_loss: 0.0048\n"
     ]
    }
   ],
   "source": [
    "history_lstm = lstm.fit(X_train,y_train, epochs=10,\n",
    "                      batch_size=1,\n",
    "                      validation_data=(X_test,y_test),\n",
    "                      verbose=1, callbacks=[EarlyStopping(monitor='val_loss', patience=10)],shuffle=False)"
   ]
  },
  {
   "cell_type": "code",
   "execution_count": 54,
   "metadata": {},
   "outputs": [
    {
     "name": "stdout",
     "output_type": "stream",
     "text": [
      "Train Score: 0.005 MSE (0.073 RMSE) LSTM\n",
      "Test Score: 0.005 MSE (0.070 RMSE) LSTM\n"
     ]
    }
   ],
   "source": [
    "trainScoreLstm = lstm.evaluate(X_train, y_train, verbose=0)\n",
    "print('Train Score: %.3f MSE (%.3f RMSE) LSTM' % (trainScoreLstm, math.sqrt(trainScoreLstm)))\n",
    "\n",
    "testScoreLstm = lstm.evaluate(X_test, y_test, verbose=0)\n",
    "print('Test Score: %.3f MSE (%.3f RMSE) LSTM' % (testScoreLstm, math.sqrt(testScoreLstm)))\n",
    "\n",
    "trainScoreLstm = trainScoreLstm\n",
    "testScoreLstm = testScoreLstm\n",
    "rmseTrain = math.sqrt(trainScoreLstm)\n",
    "rmseTest = math.sqrt(testScoreLstm)\n",
    "score = np.array([trainScoreLstm,testScoreLstm,rmseTrain,rmseTest])\n",
    "np.savetxt(\"output/score_lstm.txt\",score, delimiter=\";\")\n"
   ]
  },
  {
   "cell_type": "code",
   "execution_count": 55,
   "metadata": {},
   "outputs": [
    {
     "data": {
      "text/plain": [
       "'loss history lstm dan model lstm saved!'"
      ]
     },
     "execution_count": 55,
     "metadata": {},
     "output_type": "execute_result"
    }
   ],
   "source": [
    "save_history(history_lstm,lstm,'lstm')"
   ]
  },
  {
   "cell_type": "markdown",
   "metadata": {},
   "source": [
    "#### plot LSTM model"
   ]
  },
  {
   "cell_type": "code",
   "execution_count": 56,
   "metadata": {},
   "outputs": [
    {
     "data": {
      "image/png": "[encoded data removed]",
      "text/plain": [
       "<Figure size 432x288 with 1 Axes>"
      ]
     },
     "metadata": {
      "needs_background": "light"
     },
     "output_type": "display_data"
    }
   ],
   "source": [
    "plt.title('LSTM Loss')\n",
    "plt.plot(history_lstm.history['loss'],label='train')\n",
    "plt.plot(history_lstm.history['val_loss'],label='test')\n",
    "plt.legend()\n",
    "plt.savefig('output/lstm_loss.png')\n",
    "plt.show()"
   ]
  },
  {
   "cell_type": "code",
   "execution_count": 57,
   "metadata": {},
   "outputs": [],
   "source": [
    "trainPredictLstm = lstm.predict(X_train)\n",
    "testPredictLstm = lstm.predict(X_test)\n",
    "\n",
    "trainPredictTempLstm = np.zeros(shape=(len(trainPredictLstm), 2))\n",
    "trainPredictTempLstm[:,0] = trainPredictLstm[:,0]\n",
    "trainPredictLstm = scaler.inverse_transform(trainPredictTempLstm)[:,0]\n",
    "\n",
    "\n",
    "testPredictTempLstm = np.zeros(shape=(len(testPredictLstm), 2))\n",
    "testPredictTempLstm[:,0] = testPredictLstm[:,0]\n",
    "testPredictLstm = scaler.inverse_transform(testPredictTempLstm)[:,0]\n"
   ]
  },
  {
   "cell_type": "code",
   "execution_count": 58,
   "metadata": {},
   "outputs": [
    {
     "data": {
      "image/png": "[encoded data removed]",
      "text/plain": [
       "<Figure size 432x288 with 1 Axes>"
      ]
     },
     "metadata": {
      "needs_background": "light"
     },
     "output_type": "display_data"
    }
   ],
   "source": [
    "plot_forecast(df['Close'].values,trainPredictLstm.reshape(-1,1),testPredictLstm.reshape(-1,1),'lstm','LSTM')"
   ]
  },
  {
   "cell_type": "code",
   "execution_count": 59,
   "metadata": {},
   "outputs": [
    {
     "data": {
      "image/png": "[encoded data removed]",
      "text/plain": [
       "<Figure size 432x288 with 1 Axes>"
      ]
     },
     "metadata": {
      "needs_background": "light"
     },
     "output_type": "display_data"
    }
   ],
   "source": [
    "plot_forecast(df['Close'].values,trainPredictAnn.reshape(-1,1),testPredictAnn.reshape(-1,1),'ann','ANN')"
   ]
  },
  {
   "cell_type": "code",
   "execution_count": null,
   "metadata": {},
   "outputs": [],
   "source": []
  },
  {
   "cell_type": "code",
   "execution_count": null,
   "metadata": {},
   "outputs": [],
   "source": []
  }
 ],
 "metadata": {
  "kernelspec": {
   "display_name": "Python 3",
   "language": "python",
   "name": "python3"
  },
  "language_info": {
   "codemirror_mode": {
    "name": "ipython",
    "version": 3
   },
   "file_extension": ".py",
   "mimetype": "text/x-python",
   "name": "python",
   "nbconvert_exporter": "python",
   "pygments_lexer": "ipython3",
   "version": "3.8.3"
  }
 },
 "nbformat": 4,
 "nbformat_minor": 4
}
