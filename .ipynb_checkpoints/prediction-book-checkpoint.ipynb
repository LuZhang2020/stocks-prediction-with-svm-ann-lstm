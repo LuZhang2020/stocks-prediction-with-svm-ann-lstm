{
 "cells": [
  {
   "cell_type": "markdown",
   "metadata": {},
   "source": [
    "### Prediction Stock BRI data with SVR, ANN, LSTM"
   ]
  },
  {
   "cell_type": "code",
   "execution_count": 1,
   "metadata": {},
   "outputs": [
    {
     "name": "stderr",
     "output_type": "stream",
     "text": [
      "<frozen importlib._bootstrap>:219: RuntimeWarning: numpy.ufunc size changed, may indicate binary incompatibility. Expected 192 from C header, got 216 from PyObject\n"
     ]
    }
   ],
   "source": [
    "from sklearn.model_selection import train_test_split\n",
    "from sklearn.linear_model import LinearRegression\n",
    "from sklearn.svm import SVR\n",
    "from sklearn.metrics import r2_score, mean_squared_error\n",
    "\n",
    "from tensorflow.keras.models import Sequential\n",
    "from tensorflow.keras.layers import LSTM\n",
    "from tensorflow.keras.layers import Dense\n",
    "from tensorflow.keras.layers import Dropout\n",
    "from tensorflow.keras.layers import concatenate\n",
    "from tensorflow.keras.callbacks import EarlyStopping\n",
    "\n",
    "import pandas as pd\n",
    "import numpy as np\n",
    "import matplotlib\n",
    "import matplotlib.pyplot as plt\n",
    "\n",
    "import math\n",
    "\n",
    "\n",
    "matplotlib.use('Agg')\n",
    "%matplotlib inline\n",
    "np.random.seed(11)"
   ]
  },
  {
   "cell_type": "code",
   "execution_count": 2,
   "metadata": {},
   "outputs": [],
   "source": [
    "df = pd.read_csv('data/bbri.csv', usecols=[0,4]);"
   ]
  },
  {
   "cell_type": "code",
   "execution_count": 3,
   "metadata": {},
   "outputs": [
    {
     "data": {
      "text/html": [
       "<div>\n",
       "<style scoped>\n",
       "    .dataframe tbody tr th:only-of-type {\n",
       "        vertical-align: middle;\n",
       "    }\n",
       "\n",
       "    .dataframe tbody tr th {\n",
       "        vertical-align: top;\n",
       "    }\n",
       "\n",
       "    .dataframe thead th {\n",
       "        text-align: right;\n",
       "    }\n",
       "</style>\n",
       "<table border=\"1\" class=\"dataframe\">\n",
       "  <thead>\n",
       "    <tr style=\"text-align: right;\">\n",
       "      <th></th>\n",
       "      <th>Close</th>\n",
       "    </tr>\n",
       "    <tr>\n",
       "      <th>Date</th>\n",
       "      <th></th>\n",
       "    </tr>\n",
       "  </thead>\n",
       "  <tbody>\n",
       "    <tr>\n",
       "      <th>2020-01-20</th>\n",
       "      <td>4660.0</td>\n",
       "    </tr>\n",
       "    <tr>\n",
       "      <th>2020-01-21</th>\n",
       "      <td>4670.0</td>\n",
       "    </tr>\n",
       "    <tr>\n",
       "      <th>2020-01-22</th>\n",
       "      <td>4710.0</td>\n",
       "    </tr>\n",
       "    <tr>\n",
       "      <th>2020-01-23</th>\n",
       "      <td>4740.0</td>\n",
       "    </tr>\n",
       "    <tr>\n",
       "      <th>2020-01-24</th>\n",
       "      <td>4740.0</td>\n",
       "    </tr>\n",
       "    <tr>\n",
       "      <th>...</th>\n",
       "      <td>...</td>\n",
       "    </tr>\n",
       "    <tr>\n",
       "      <th>2020-11-09</th>\n",
       "      <td>3690.0</td>\n",
       "    </tr>\n",
       "    <tr>\n",
       "      <th>2020-11-10</th>\n",
       "      <td>4000.0</td>\n",
       "    </tr>\n",
       "    <tr>\n",
       "      <th>2020-11-11</th>\n",
       "      <td>4120.0</td>\n",
       "    </tr>\n",
       "    <tr>\n",
       "      <th>2020-11-12</th>\n",
       "      <td>3950.0</td>\n",
       "    </tr>\n",
       "    <tr>\n",
       "      <th>2020-11-13</th>\n",
       "      <td>4000.0</td>\n",
       "    </tr>\n",
       "  </tbody>\n",
       "</table>\n",
       "<p>200 rows × 1 columns</p>\n",
       "</div>"
      ],
      "text/plain": [
       "             Close\n",
       "Date              \n",
       "2020-01-20  4660.0\n",
       "2020-01-21  4670.0\n",
       "2020-01-22  4710.0\n",
       "2020-01-23  4740.0\n",
       "2020-01-24  4740.0\n",
       "...            ...\n",
       "2020-11-09  3690.0\n",
       "2020-11-10  4000.0\n",
       "2020-11-11  4120.0\n",
       "2020-11-12  3950.0\n",
       "2020-11-13  4000.0\n",
       "\n",
       "[200 rows x 1 columns]"
      ]
     },
     "execution_count": 3,
     "metadata": {},
     "output_type": "execute_result"
    }
   ],
   "source": [
    "df = df.set_index('Date')\n",
    "df"
   ]
  },
  {
   "cell_type": "code",
   "execution_count": 4,
   "metadata": {},
   "outputs": [],
   "source": [
    "def create_dataset(dataset, dimensi):\n",
    "    dataX, dataY = [], []\n",
    "    for i in range(len(dataset) - dimensi - 1):\n",
    "        a = dataset[i:(i + dimensi), 0]\n",
    "        dataX.append(a)\n",
    "        dataY.append(dataset[i + dimensi, 0])\n",
    "    return np.array(dataX), np.array(dataY)"
   ]
  },
  {
   "cell_type": "code",
   "execution_count": 5,
   "metadata": {},
   "outputs": [],
   "source": [
    "df['pred'] = df.Close.shift(-1)"
   ]
  },
  {
   "cell_type": "code",
   "execution_count": 6,
   "metadata": {},
   "outputs": [
    {
     "data": {
      "text/html": [
       "<div>\n",
       "<style scoped>\n",
       "    .dataframe tbody tr th:only-of-type {\n",
       "        vertical-align: middle;\n",
       "    }\n",
       "\n",
       "    .dataframe tbody tr th {\n",
       "        vertical-align: top;\n",
       "    }\n",
       "\n",
       "    .dataframe thead th {\n",
       "        text-align: right;\n",
       "    }\n",
       "</style>\n",
       "<table border=\"1\" class=\"dataframe\">\n",
       "  <thead>\n",
       "    <tr style=\"text-align: right;\">\n",
       "      <th></th>\n",
       "      <th>Close</th>\n",
       "      <th>pred</th>\n",
       "    </tr>\n",
       "    <tr>\n",
       "      <th>Date</th>\n",
       "      <th></th>\n",
       "      <th></th>\n",
       "    </tr>\n",
       "  </thead>\n",
       "  <tbody>\n",
       "    <tr>\n",
       "      <th>2020-01-20</th>\n",
       "      <td>4660.0</td>\n",
       "      <td>4670.0</td>\n",
       "    </tr>\n",
       "    <tr>\n",
       "      <th>2020-01-21</th>\n",
       "      <td>4670.0</td>\n",
       "      <td>4710.0</td>\n",
       "    </tr>\n",
       "    <tr>\n",
       "      <th>2020-01-22</th>\n",
       "      <td>4710.0</td>\n",
       "      <td>4740.0</td>\n",
       "    </tr>\n",
       "    <tr>\n",
       "      <th>2020-01-23</th>\n",
       "      <td>4740.0</td>\n",
       "      <td>4740.0</td>\n",
       "    </tr>\n",
       "    <tr>\n",
       "      <th>2020-01-24</th>\n",
       "      <td>4740.0</td>\n",
       "      <td>4650.0</td>\n",
       "    </tr>\n",
       "    <tr>\n",
       "      <th>...</th>\n",
       "      <td>...</td>\n",
       "      <td>...</td>\n",
       "    </tr>\n",
       "    <tr>\n",
       "      <th>2020-11-09</th>\n",
       "      <td>3690.0</td>\n",
       "      <td>4000.0</td>\n",
       "    </tr>\n",
       "    <tr>\n",
       "      <th>2020-11-10</th>\n",
       "      <td>4000.0</td>\n",
       "      <td>4120.0</td>\n",
       "    </tr>\n",
       "    <tr>\n",
       "      <th>2020-11-11</th>\n",
       "      <td>4120.0</td>\n",
       "      <td>3950.0</td>\n",
       "    </tr>\n",
       "    <tr>\n",
       "      <th>2020-11-12</th>\n",
       "      <td>3950.0</td>\n",
       "      <td>4000.0</td>\n",
       "    </tr>\n",
       "    <tr>\n",
       "      <th>2020-11-13</th>\n",
       "      <td>4000.0</td>\n",
       "      <td>NaN</td>\n",
       "    </tr>\n",
       "  </tbody>\n",
       "</table>\n",
       "<p>200 rows × 2 columns</p>\n",
       "</div>"
      ],
      "text/plain": [
       "             Close    pred\n",
       "Date                      \n",
       "2020-01-20  4660.0  4670.0\n",
       "2020-01-21  4670.0  4710.0\n",
       "2020-01-22  4710.0  4740.0\n",
       "2020-01-23  4740.0  4740.0\n",
       "2020-01-24  4740.0  4650.0\n",
       "...            ...     ...\n",
       "2020-11-09  3690.0  4000.0\n",
       "2020-11-10  4000.0  4120.0\n",
       "2020-11-11  4120.0  3950.0\n",
       "2020-11-12  3950.0  4000.0\n",
       "2020-11-13  4000.0     NaN\n",
       "\n",
       "[200 rows x 2 columns]"
      ]
     },
     "execution_count": 6,
     "metadata": {},
     "output_type": "execute_result"
    }
   ],
   "source": [
    "df"
   ]
  },
  {
   "cell_type": "code",
   "execution_count": 7,
   "metadata": {},
   "outputs": [],
   "source": [
    "df_new = df.dropna()"
   ]
  },
  {
   "cell_type": "code",
   "execution_count": 8,
   "metadata": {},
   "outputs": [
    {
     "data": {
      "text/html": [
       "<div>\n",
       "<style scoped>\n",
       "    .dataframe tbody tr th:only-of-type {\n",
       "        vertical-align: middle;\n",
       "    }\n",
       "\n",
       "    .dataframe tbody tr th {\n",
       "        vertical-align: top;\n",
       "    }\n",
       "\n",
       "    .dataframe thead th {\n",
       "        text-align: right;\n",
       "    }\n",
       "</style>\n",
       "<table border=\"1\" class=\"dataframe\">\n",
       "  <thead>\n",
       "    <tr style=\"text-align: right;\">\n",
       "      <th></th>\n",
       "      <th>Close</th>\n",
       "      <th>pred</th>\n",
       "    </tr>\n",
       "  </thead>\n",
       "  <tbody>\n",
       "    <tr>\n",
       "      <th>count</th>\n",
       "      <td>200.000000</td>\n",
       "      <td>199.000000</td>\n",
       "    </tr>\n",
       "    <tr>\n",
       "      <th>mean</th>\n",
       "      <td>3360.200000</td>\n",
       "      <td>3353.668342</td>\n",
       "    </tr>\n",
       "    <tr>\n",
       "      <th>std</th>\n",
       "      <td>611.595623</td>\n",
       "      <td>606.104560</td>\n",
       "    </tr>\n",
       "    <tr>\n",
       "      <th>min</th>\n",
       "      <td>2170.000000</td>\n",
       "      <td>2170.000000</td>\n",
       "    </tr>\n",
       "    <tr>\n",
       "      <th>25%</th>\n",
       "      <td>3030.000000</td>\n",
       "      <td>3030.000000</td>\n",
       "    </tr>\n",
       "    <tr>\n",
       "      <th>50%</th>\n",
       "      <td>3160.000000</td>\n",
       "      <td>3160.000000</td>\n",
       "    </tr>\n",
       "    <tr>\n",
       "      <th>75%</th>\n",
       "      <td>3617.500000</td>\n",
       "      <td>3610.000000</td>\n",
       "    </tr>\n",
       "    <tr>\n",
       "      <th>max</th>\n",
       "      <td>4740.000000</td>\n",
       "      <td>4740.000000</td>\n",
       "    </tr>\n",
       "  </tbody>\n",
       "</table>\n",
       "</div>"
      ],
      "text/plain": [
       "             Close         pred\n",
       "count   200.000000   199.000000\n",
       "mean   3360.200000  3353.668342\n",
       "std     611.595623   606.104560\n",
       "min    2170.000000  2170.000000\n",
       "25%    3030.000000  3030.000000\n",
       "50%    3160.000000  3160.000000\n",
       "75%    3617.500000  3610.000000\n",
       "max    4740.000000  4740.000000"
      ]
     },
     "execution_count": 8,
     "metadata": {},
     "output_type": "execute_result"
    }
   ],
   "source": [
    "df.describe()"
   ]
  },
  {
   "cell_type": "markdown",
   "metadata": {},
   "source": [
    "### convert data to float"
   ]
  },
  {
   "cell_type": "code",
   "execution_count": 16,
   "metadata": {},
   "outputs": [
    {
     "data": {
      "text/plain": [
       "array([4660., 4670., 4710., 4740., 4740., 4650., 4620., 4620., 4580.,\n",
       "       4460., 4460., 4560., 4560., 4550., 4550., 4500., 4510., 4530.,\n",
       "       4570., 4550., 4470., 4400., 4480., 4560., 4510., 4490., 4500.,\n",
       "       4480., 4130., 4190., 3980., 4100., 4220., 4150., 4010., 3750.,\n",
       "       3910., 3910., 3610., 3720., 3500., 3260., 3140., 2930., 2810.,\n",
       "       2620., 2440., 2940., 3230., 3010., 3020., 2930., 2870., 2890.,\n",
       "       3020., 3030., 2820., 2790., 2770., 2900., 2760., 2610., 2830.,\n",
       "       2780., 2720., 2790., 2800., 2630., 2660., 2590., 2580., 2730.,\n",
       "       2630., 2630., 2620., 2590., 2620., 2490., 2470., 2350., 2240.,\n",
       "       2170., 2370., 2480., 2520., 2630., 2730., 2950., 3180., 3100.,\n",
       "       3060., 3110., 3300., 3210., 3030., 2970., 3030., 2900., 3130.,\n",
       "       3100., 3050., 3100., 3060., 3010., 3120., 3060., 3030., 3040.,\n",
       "       3030., 3060., 3060., 3050., 3040., 3030., 3190., 3140., 3110.,\n",
       "       3160., 3170., 3130., 3140., 3100., 3050., 3150., 3100., 3140.,\n",
       "       3090., 3150., 3140., 3120., 3160., 2990., 3080., 3080., 3110.,\n",
       "       3110., 3130., 3190., 3350., 3330., 3340., 3520., 3560., 3640.,\n",
       "       3800., 3740., 3700., 3690., 3510., 3610., 3660., 3580., 3550.,\n",
       "       3510., 3520., 3410., 3180., 3250., 3440., 3330., 3260., 3200.,\n",
       "       3220., 3190., 3130., 3080., 3030., 3160., 3090., 3040., 3040.,\n",
       "       3160., 3100., 3160., 3190., 3120., 3150., 3150., 3190., 3280.,\n",
       "       3360., 3310., 3250., 3280., 3250., 3240., 3300., 3290., 3340.,\n",
       "       3360., 3380., 3380., 3290., 3490., 3560., 3690., 4000., 4120.,\n",
       "       3950.])"
      ]
     },
     "execution_count": 16,
     "metadata": {},
     "output_type": "execute_result"
    }
   ],
   "source": [
    "values = df_new.values\n",
    "values = values.astype('float32')\n",
    "len(values)\n",
    "df_new['Close'].values"
   ]
  },
  {
   "cell_type": "code",
   "execution_count": 10,
   "metadata": {},
   "outputs": [
    {
     "name": "stdout",
     "output_type": "stream",
     "text": [
      "Min: 2170.0\n",
      "Max: 4740.0\n"
     ]
    }
   ],
   "source": [
    "print(\"Min:\",np.min(values))\n",
    "print(\"Max:\",np.max(values))"
   ]
  },
  {
   "cell_type": "code",
   "execution_count": 68,
   "metadata": {},
   "outputs": [
    {
     "name": "stdout",
     "output_type": "stream",
     "text": [
      "199 199\n"
     ]
    }
   ],
   "source": [
    "from sklearn.preprocessing import MinMaxScaler\n",
    "scaler = MinMaxScaler(feature_range = (0,1))\n",
    "scaled = scaler.fit_transform(values)\n",
    "scaled = pd.DataFrame(scaled)\n",
    "\n",
    "\n",
    "X = np.array(scaled[0])\n",
    "y = np.array(scaled[1])\n",
    "\n",
    "print(len(X.reshape(-1,1)), len(X))"
   ]
  },
  {
   "cell_type": "code",
   "execution_count": 119,
   "metadata": {},
   "outputs": [],
   "source": [
    "X_train, X_test, y_train, y_test = train_test_split(X.reshape(-1,1),y, test_size=0.2, random_state=True)\n",
    "\n",
    "### Without Scaled Data\n",
    "# X_train, X_test, y_train, y_test = train_test_split(df_new['Close'].values.reshape(-1,1),df_new['pred'].values, test_size=0.2, random_state=True)"
   ]
  },
  {
   "cell_type": "code",
   "execution_count": 120,
   "metadata": {},
   "outputs": [],
   "source": [
    "def model(type):\n",
    "    \n",
    "    if type == 'svm':\n",
    "        models = SVR(kernel='rbf', C=1e3, gamma=0.1)\n",
    "    elif type == 'ann':\n",
    "        models = Sequential()\n",
    "        models.add(Dense(10, input_dim=1, activation='relu', use_bias=True, bias_initializer='ones')) #inisialisasi input layer dan hidden layer\n",
    "        models.add(Dense(10, activation='relu', use_bias=True, bias_initializer='ones')) #hidden layer 2\n",
    "        models.add(Dense(1, activation='relu')) #inisialisasi output layer\n",
    "        models.compile(loss='mean_squared_error', optimizer='adam')\n",
    "        models.summary()\n",
    "    elif type == 'lstm':\n",
    "        models = Sequential()\n",
    "        models.add(LSTM(units=4,return_sequences=True, input_shape=(1,1)))\n",
    "        models.add(Dropout(0.2))\n",
    "        \n",
    "        models.add(LSTM(units=4))\n",
    "        models.add(Dropout(0.2))\n",
    "        \n",
    "        models.add(Dense(1))\n",
    "        models.compile(loss='mean_squared_error', optimizer='adam')\n",
    "        models.summary()\n",
    "    return models"
   ]
  },
  {
   "cell_type": "markdown",
   "metadata": {},
   "source": [
    "### SVM Model"
   ]
  },
  {
   "cell_type": "code",
   "execution_count": 161,
   "metadata": {},
   "outputs": [],
   "source": [
    "svm = model('svm')"
   ]
  },
  {
   "cell_type": "code",
   "execution_count": 162,
   "metadata": {},
   "outputs": [
    {
     "data": {
      "text/plain": [
       "SVR(C=1000.0, cache_size=200, coef0=0.0, degree=3, epsilon=0.1, gamma=0.1,\n",
       "    kernel='rbf', max_iter=-1, shrinking=True, tol=0.001, verbose=False)"
      ]
     },
     "execution_count": 162,
     "metadata": {},
     "output_type": "execute_result"
    }
   ],
   "source": [
    "svm.fit(X_train,y_train)"
   ]
  },
  {
   "cell_type": "code",
   "execution_count": 163,
   "metadata": {},
   "outputs": [
    {
     "name": "stdout",
     "output_type": "stream",
     "text": [
      "svm confidence:  0.9426214772626347\n"
     ]
    }
   ],
   "source": [
    "svm_confidence = svm.score(X_test, y_test)\n",
    "print(\"svm confidence: \", svm_confidence)"
   ]
  },
  {
   "cell_type": "code",
   "execution_count": 166,
   "metadata": {},
   "outputs": [
    {
     "data": {
      "text/plain": [
       "array([3157.62200949, 3498.36351955, 3957.64478395, 3104.3538142 ,\n",
       "       3714.88649564, 3273.63777107, 3024.84238231, 4594.73381191,\n",
       "       4118.06717762, 3193.23744068, 2954.61004901, 4450.14457501,\n",
       "       4441.55246368, 3228.92812684, 3669.78417832, 3193.23744068,\n",
       "       3104.3538142 , 3723.90420383, 3104.3538142 , 2850.15855098,\n",
       "       2989.67053357, 4398.45864255, 2884.84791183, 3237.8619499 ,\n",
       "       4038.04544836, 3273.63777107, 3597.59397651, 4064.76510697,\n",
       "       3193.23744068, 4372.49821683, 2998.45316331, 3166.51860177,\n",
       "       2963.36425644, 3624.66644233, 3507.38008636, 3095.4952606 ,\n",
       "       3166.51860177, 3184.32641648, 2594.73639388, 3202.15344149])"
      ]
     },
     "execution_count": 166,
     "metadata": {},
     "output_type": "execute_result"
    }
   ],
   "source": [
    "y_pred_svm = svm.predict(X_test)\n",
    "\n",
    "y_pred_svm = np.reshape(y_pred_svm,(len(y_pred_svm),1))\n",
    "\n",
    "yPredTemp = np.zeros(shape=(len(y_pred_svm), 2))\n",
    "yPredTemp[:,0] = y_pred_svm[:,0]\n",
    "y_pred_svm_decode = scaler.inverse_transform(yPredTemp)[:,0]\n",
    "y_pred_svm_decode"
   ]
  },
  {
   "cell_type": "code",
   "execution_count": 167,
   "metadata": {},
   "outputs": [
    {
     "name": "stdout",
     "output_type": "stream",
     "text": [
      "Test Score: 0.003 MSE (0.052 RMSE) SVM\n"
     ]
    }
   ],
   "source": [
    "mse_svm = mean_squared_error(y_test, y_pred_svm)\n",
    "rmse_svm = np.sqrt(mse_svm)\n",
    "\n",
    "print('Test Score: %.3f MSE (%.3f RMSE) SVM' % (mse_svm, rmse_svm))"
   ]
  },
  {
   "cell_type": "markdown",
   "metadata": {},
   "source": [
    "### ANN Model"
   ]
  },
  {
   "cell_type": "code",
   "execution_count": 70,
   "metadata": {},
   "outputs": [
    {
     "name": "stdout",
     "output_type": "stream",
     "text": [
      "Model: \"sequential_2\"\n",
      "_________________________________________________________________\n",
      "Layer (type)                 Output Shape              Param #   \n",
      "=================================================================\n",
      "dense_4 (Dense)              (None, 10)                20        \n",
      "_________________________________________________________________\n",
      "dense_5 (Dense)              (None, 10)                110       \n",
      "_________________________________________________________________\n",
      "dense_6 (Dense)              (None, 1)                 11        \n",
      "=================================================================\n",
      "Total params: 141\n",
      "Trainable params: 141\n",
      "Non-trainable params: 0\n",
      "_________________________________________________________________\n"
     ]
    }
   ],
   "source": [
    "ann = model('ann')"
   ]
  },
  {
   "cell_type": "code",
   "execution_count": 71,
   "metadata": {},
   "outputs": [
    {
     "name": "stdout",
     "output_type": "stream",
     "text": [
      "Epoch 1/10\n",
      "159/159 [==============================] - 0s 958us/step - loss: 0.0272 - val_loss: 0.0123\n",
      "Epoch 2/10\n",
      "159/159 [==============================] - 0s 825us/step - loss: 0.0095 - val_loss: 0.0044\n",
      "Epoch 3/10\n",
      "159/159 [==============================] - 0s 797us/step - loss: 0.0037 - val_loss: 0.0026\n",
      "Epoch 4/10\n",
      "159/159 [==============================] - 0s 901us/step - loss: 0.0025 - val_loss: 0.0025\n",
      "Epoch 5/10\n",
      "159/159 [==============================] - 0s 886us/step - loss: 0.0024 - val_loss: 0.0026\n",
      "Epoch 6/10\n",
      "159/159 [==============================] - 0s 1ms/step - loss: 0.0026 - val_loss: 0.0028\n",
      "Epoch 7/10\n",
      "159/159 [==============================] - 0s 855us/step - loss: 0.0027 - val_loss: 0.0030\n",
      "Epoch 8/10\n",
      "159/159 [==============================] - 0s 1ms/step - loss: 0.0028 - val_loss: 0.0031\n",
      "Epoch 9/10\n",
      "159/159 [==============================] - 0s 1ms/step - loss: 0.0028 - val_loss: 0.0032\n",
      "Epoch 10/10\n",
      "159/159 [==============================] - 0s 851us/step - loss: 0.0029 - val_loss: 0.0033\n"
     ]
    }
   ],
   "source": [
    "# history_ann = ann.fit(X_train, y_train, epochs = 10, batch_size=32,\n",
    "#                          validation_data=(X_test,y_test),\n",
    "#                          verbose=1, callbacks=[EarlyStopping(monitor='val_loss', patience=10)],shuffle=False)\n",
    "history_ann = ann.fit(X_train,y_train, epochs=10,\n",
    "                      batch_size=1,\n",
    "                      validation_data=(X_test,y_test),\n",
    "                      verbose=1, callbacks=[EarlyStopping(monitor='val_loss', patience=10)], shuffle=False)"
   ]
  },
  {
   "cell_type": "code",
   "execution_count": 72,
   "metadata": {},
   "outputs": [
    {
     "name": "stdout",
     "output_type": "stream",
     "text": [
      "Train Score: 0.002 MSE (0.047 RMSE) ANN\n",
      "Test Score: 0.003 MSE (0.058 RMSE) ANN\n"
     ]
    }
   ],
   "source": [
    "trainScoreAnn = ann.evaluate(X_train, y_train, verbose=0)\n",
    "print('Train Score: %.3f MSE (%.3f RMSE) ANN' % (trainScoreAnn, math.sqrt(trainScoreAnn)))\n",
    "\n",
    "testScoreAnn = ann.evaluate(X_test, y_test, verbose=0)\n",
    "print('Test Score: %.3f MSE (%.3f RMSE) ANN' % (testScoreAnn, math.sqrt(testScoreAnn)))"
   ]
  },
  {
   "cell_type": "code",
   "execution_count": 54,
   "metadata": {},
   "outputs": [],
   "source": [
    "def save_history(history,model,name):\n",
    "            \n",
    "    # save history\n",
    "    loss_history = history.history[\"loss\"]\n",
    "    testing_loss_history = history.history[\"val_loss\"]\n",
    "\n",
    "    loss = np.array(loss_history)\n",
    "    np.savetxt(\"output/loss_history_{}.txt\".format(name), loss, delimiter=\",\")\n",
    "\n",
    "    tes_loss = np.array(testing_loss_history)\n",
    "    np.savetxt(\"output/testing_loss_history_{}.txt\".format(name), tes_loss, delimiter=\",\")\n",
    "\n",
    "    model_json = model.to_json()\n",
    "    with open(\"output/model_{}.json\".format(name), \"w\") as json_file:\n",
    "        json_file.write(model_json)\n",
    "\n",
    "    model.save_weights('output/model_{}.h5'.format(name))\n",
    "    \n",
    "    return 'loss history {} dan model {} saved!'.format(name,name)"
   ]
  },
  {
   "cell_type": "code",
   "execution_count": 55,
   "metadata": {},
   "outputs": [
    {
     "data": {
      "text/plain": [
       "'loss history ann dan model ann saved!'"
      ]
     },
     "execution_count": 55,
     "metadata": {},
     "output_type": "execute_result"
    }
   ],
   "source": [
    "save_history(history_ann,ann,'ann')"
   ]
  },
  {
   "cell_type": "markdown",
   "metadata": {},
   "source": [
    "#### plot Ann model"
   ]
  },
  {
   "cell_type": "code",
   "execution_count": 73,
   "metadata": {},
   "outputs": [
    {
     "data": {
      "image/png": "[encoded data removed]",
      "text/plain": [
       "<Figure size 432x288 with 1 Axes>"
      ]
     },
     "metadata": {
      "needs_background": "light"
     },
     "output_type": "display_data"
    }
   ],
   "source": [
    "plt.plot(history_ann.history['loss'],label='train')\n",
    "plt.plot(history_ann.history['val_loss'],label='test')\n",
    "plt.legend()\n",
    "plt.show()"
   ]
  },
  {
   "cell_type": "markdown",
   "metadata": {},
   "source": [
    "### LSTM Model"
   ]
  },
  {
   "cell_type": "code",
   "execution_count": 104,
   "metadata": {},
   "outputs": [
    {
     "name": "stdout",
     "output_type": "stream",
     "text": [
      "Model: \"sequential_4\"\n",
      "_________________________________________________________________\n",
      "Layer (type)                 Output Shape              Param #   \n",
      "=================================================================\n",
      "lstm_4 (LSTM)                (None, 1, 4)              96        \n",
      "_________________________________________________________________\n",
      "dropout_4 (Dropout)          (None, 1, 4)              0         \n",
      "_________________________________________________________________\n",
      "lstm_5 (LSTM)                (None, 4)                 144       \n",
      "_________________________________________________________________\n",
      "dropout_5 (Dropout)          (None, 4)                 0         \n",
      "_________________________________________________________________\n",
      "dense_8 (Dense)              (None, 1)                 5         \n",
      "=================================================================\n",
      "Total params: 245\n",
      "Trainable params: 245\n",
      "Non-trainable params: 0\n",
      "_________________________________________________________________\n"
     ]
    }
   ],
   "source": [
    "lstm = model('lstm')"
   ]
  },
  {
   "cell_type": "code",
   "execution_count": 105,
   "metadata": {},
   "outputs": [
    {
     "data": {
      "text/plain": [
       "((159, 1, 1), (40, 1, 1))"
      ]
     },
     "execution_count": 105,
     "metadata": {},
     "output_type": "execute_result"
    }
   ],
   "source": [
    "X_train = np.reshape(X_train,(X_train.shape[0],1,X_train.shape[1]))\n",
    "X_test = np.reshape(X_test,(X_test.shape[0],1,X_test.shape[1]))\n",
    "X_train.shape,X_test.shape"
   ]
  },
  {
   "cell_type": "code",
   "execution_count": 106,
   "metadata": {},
   "outputs": [
    {
     "name": "stdout",
     "output_type": "stream",
     "text": [
      "Epoch 1/10\n",
      "159/159 [==============================] - 1s 4ms/step - loss: 0.1777 - val_loss: 0.1063\n",
      "Epoch 2/10\n",
      "159/159 [==============================] - 0s 2ms/step - loss: 0.0712 - val_loss: 0.0485\n",
      "Epoch 3/10\n",
      "159/159 [==============================] - 0s 2ms/step - loss: 0.0604 - val_loss: 0.0426\n",
      "Epoch 4/10\n",
      "159/159 [==============================] - 0s 1ms/step - loss: 0.0550 - val_loss: 0.0404\n",
      "Epoch 5/10\n",
      "159/159 [==============================] - 0s 2ms/step - loss: 0.0536 - val_loss: 0.0366\n",
      "Epoch 6/10\n",
      "159/159 [==============================] - 0s 2ms/step - loss: 0.0487 - val_loss: 0.0338\n",
      "Epoch 7/10\n",
      "159/159 [==============================] - 0s 2ms/step - loss: 0.0481 - val_loss: 0.0300\n",
      "Epoch 8/10\n",
      "159/159 [==============================] - 0s 2ms/step - loss: 0.0427 - val_loss: 0.0241\n",
      "Epoch 9/10\n",
      "159/159 [==============================] - 0s 2ms/step - loss: 0.0341 - val_loss: 0.0179\n",
      "Epoch 10/10\n",
      "159/159 [==============================] - 0s 2ms/step - loss: 0.0245 - val_loss: 0.0109\n"
     ]
    }
   ],
   "source": [
    "history_lstm = lstm.fit(X_train,y_train, epochs=10,\n",
    "                      batch_size=1,\n",
    "                      validation_data=(X_test,y_test),\n",
    "                      verbose=1, callbacks=[EarlyStopping(monitor='val_loss', patience=10)],shuffle=False)"
   ]
  },
  {
   "cell_type": "code",
   "execution_count": 107,
   "metadata": {},
   "outputs": [
    {
     "name": "stdout",
     "output_type": "stream",
     "text": [
      "Train Score: 0.002 MSE (0.047 RMSE) LSTM\n",
      "Test Score: 0.003 MSE (0.058 RMSE) LSTM\n"
     ]
    }
   ],
   "source": [
    "trainScoreLstm = ann.evaluate(X_train, y_train, verbose=0)\n",
    "print('Train Score: %.3f MSE (%.3f RMSE) LSTM' % (trainScoreLstm, math.sqrt(trainScoreLstm)))\n",
    "\n",
    "testScoreLstm = ann.evaluate(X_test, y_test, verbose=0)\n",
    "print('Test Score: %.3f MSE (%.3f RMSE) LSTM' % (testScoreLstm, math.sqrt(testScoreLstm)))\n",
    "\n",
    "trainScoreLstm = trainScoreLstm\n",
    "testScoreLstm = testScoreLstm\n",
    "rmseTrain = math.sqrt(trainScoreLstm)\n",
    "rmseTest = math.sqrt(testScoreLstm)\n",
    "score = np.array([trainScoreLstm,testScoreLstm,rmseTrain,rmseTest])\n",
    "np.savetxt(\"output/score_lstm.txt\",score, delimiter=\";\")\n"
   ]
  },
  {
   "cell_type": "code",
   "execution_count": 108,
   "metadata": {},
   "outputs": [
    {
     "data": {
      "text/plain": [
       "'loss history lstm dan model lstm saved!'"
      ]
     },
     "execution_count": 108,
     "metadata": {},
     "output_type": "execute_result"
    }
   ],
   "source": [
    "save_history(history_lstm,lstm,'lstm')"
   ]
  },
  {
   "cell_type": "markdown",
   "metadata": {},
   "source": [
    "#### plot LSTM model"
   ]
  },
  {
   "cell_type": "code",
   "execution_count": 109,
   "metadata": {},
   "outputs": [
    {
     "data": {
      "image/png": "[encoded data removed]",
      "text/plain": [
       "<Figure size 432x288 with 1 Axes>"
      ]
     },
     "metadata": {
      "needs_background": "light"
     },
     "output_type": "display_data"
    }
   ],
   "source": [
    "plt.plot(history_lstm.history['loss'],label='train')\n",
    "plt.plot(history_lstm.history['val_loss'],label='test')\n",
    "plt.legend()\n",
    "plt.show()"
   ]
  },
  {
   "cell_type": "code",
   "execution_count": 112,
   "metadata": {},
   "outputs": [
    {
     "data": {
      "text/plain": [
       "(array([3189.34425726, 3184.50165346, 3086.44356025, 4032.58276914,\n",
       "        3184.50165346, 4032.58276914, 3004.03718899, 3549.13395726,\n",
       "        3208.86632458, 3243.598025  , 3184.50165346, 3346.55402142,\n",
       "        3189.34425726, 3797.38644986, 3320.32540816, 3325.5462231 ,\n",
       "        2959.19856558, 3680.78099873, 3248.61724989, 3004.03718899,\n",
       "        3218.71681765, 3122.96230448, 3238.59289304, 4020.84076081,\n",
       "        4091.16490221, 3779.81119721, 2987.48528163, 3284.14228993,\n",
       "        3077.47954261, 3179.67406168, 3248.61724989, 3174.86194148,\n",
       "        3421.56666359, 3208.86632458, 3189.34425726, 4038.4509394 ,\n",
       "        3223.66412268, 3238.59289304, 3233.60231356, 3432.4591138 ,\n",
       "        3218.71681765, 2830.85845894, 3263.75948207, 3184.50165346,\n",
       "        4032.58276914, 2901.519605  , 3394.52219267, 3243.598025  ,\n",
       "        2999.87288366, 3233.60231356, 3657.65972163, 3299.5706697 ,\n",
       "        3289.27165406, 3454.36686775, 3199.07526687, 3218.71681765,\n",
       "        3709.78990045, 3184.50165346, 3218.71681765, 2987.48528163,\n",
       "        3944.38818964, 3223.66412268, 3470.90123555, 4126.18642665,\n",
       "        2983.39121113, 3004.03718899, 3351.83656949, 4073.61538445,\n",
       "        3459.86862204, 4097.00917578, 3437.92073389, 2947.34166929,\n",
       "        3073.02280915, 3184.50165346, 3243.598025  , 3258.6981316 ,\n",
       "        3362.43781705, 2927.93663451, 3090.95069123, 2999.87288366,\n",
       "        3320.32540816, 3309.92222744, 3336.02538306, 3309.92222744,\n",
       "        3146.31550206, 3263.75948207, 3362.43781705, 3341.2834217 ,\n",
       "        3979.69586167, 3838.47329229, 2943.42506239, 3378.42853506,\n",
       "        3194.20233264, 3238.59289304, 4038.45109259, 3213.78421828,\n",
       "        3979.69586167, 3189.34425726, 3228.62582699, 3515.40025018,\n",
       "        3223.66412268, 3194.20233264, 3315.11746067, 3042.29977917,\n",
       "        4003.21541701, 3299.5706697 , 3279.02609961, 3199.07526687,\n",
       "        2854.78096462, 3109.14450062, 4003.21541701, 2999.87288366,\n",
       "        3136.92609264, 4009.09201239, 4143.65368463, 3213.78421828,\n",
       "        3174.86194148, 3487.52092681, 3165.28396263, 3351.83656949,\n",
       "        3698.1730434 , 3218.71681765, 3238.59289304, 3263.75948207,\n",
       "        4050.18115257, 3059.75371015, 3238.59289304, 4102.8509984 ,\n",
       "        3073.02280915, 3991.45809028, 2995.72611789, 3068.58277273,\n",
       "        4073.61538445, 3532.23072253, 3437.92073389, 3046.6376419 ,\n",
       "        3184.50165346, 3016.63503598, 3179.67406168, 3459.86862204,\n",
       "        3294.41457497, 3258.6981316 , 3336.02538306, 3537.85716854,\n",
       "        3218.71681765, 3985.57735894, 3263.75948207, 3997.33728979,\n",
       "        3223.66412268, 3046.6376419 , 3228.62582699, 3594.53951442,\n",
       "        3315.11746067, 2894.13276919, 3208.86632458, 3263.75948207,\n",
       "        3004.03718899, 3341.2834217 , 3657.65987481]),\n",
       " array([3228.62582699, 3427.00760385, 3715.60506907, 3199.07526687,\n",
       "        3560.44153594, 3294.41457497, 3155.76817646, 4143.65368463,\n",
       "        3820.85300356, 3248.61724989, 3118.34013237, 4044.31727146,\n",
       "        4038.4509394 , 3268.83461909, 3532.23072253, 3248.61724989,\n",
       "        3199.07526687, 3566.10658431, 3199.07526687, 3064.15989291,\n",
       "        3136.92609264, 4009.09201239, 3081.9532795 , 3273.92354267,\n",
       "        3768.10794441, 3294.41457497, 3487.52092681, 3785.66711276,\n",
       "        3248.61724989, 3991.45809028, 3141.6127552 , 3233.60231356,\n",
       "        3122.96230448, 3504.22226511, 3432.4591138 , 3194.20233264,\n",
       "        3233.60231356, 3243.598025  , 2939.52614823, 3253.65072088]))"
      ]
     },
     "execution_count": 112,
     "metadata": {},
     "output_type": "execute_result"
    }
   ],
   "source": [
    "trainPredict = lstm.predict(X_train)\n",
    "testPredict = lstm.predict(X_test)\n",
    "\n",
    "# dataset = scaler.fit_transform(np.reshape(testPredict,(-1,1)))\n",
    "# testPredict = np.reshape(dataset,(1,-1))\n",
    "# trainPredict = scaler.inverse_transform(np.reshape(trainPredict,(-1,1)))\n",
    "# testPredict = scaler.inverse_transform(testPredict)\n",
    "\n",
    "# y_train = scaler.inverse_transform(y_train)\n",
    "# y_pred = scaler.inverse_transform(np.reshape(y_test,(-1,2)))\n",
    "# y_pred.flatten()\n",
    "\n",
    "trainPredictTemp = np.zeros(shape=(len(trainPredict), 2))\n",
    "trainPredictTemp[:,0] = trainPredict[:,0]\n",
    "trainPredict = scaler.inverse_transform(trainPredictTemp)[:,0]\n",
    "\n",
    "\n",
    "testPredictTemp = np.zeros(shape=(len(testPredict), 2))\n",
    "testPredictTemp[:,0] = testPredict[:,0]\n",
    "testPredict = scaler.inverse_transform(testPredictTemp)[:,0]\n",
    "\n",
    "trainPredict,testPredict"
   ]
  },
  {
   "cell_type": "code",
   "execution_count": 250,
   "metadata": {},
   "outputs": [],
   "source": [
    "def plot_forecast(dataset,train, test):\n",
    "    # plotting train data\n",
    "    trainPredictPlot = np.zeros(shape=(len(train)+1,1))\n",
    "    trainPredictPlot = [ i[0] for i in train]\n",
    "    trainPredictPlot = [np.nan]+trainPredictPlot\n",
    "    \n",
    "    testPredictPlot = [np.nan for i in trainPredictPlot]+[ i[0] for i in test]\n",
    "\n",
    "    # Show Plot\n",
    "    plt.plot(dataset)\n",
    "    plt.plot(trainPredictPlot)\n",
    "    plt.plot(testPredictPlot)\n",
    "    plt.show()"
   ]
  },
  {
   "cell_type": "code",
   "execution_count": 251,
   "metadata": {},
   "outputs": [
    {
     "name": "stdout",
     "output_type": "stream",
     "text": [
      "[nan, nan, nan, nan, nan, nan, nan, nan, nan, nan, nan, nan, nan, nan, nan, nan, nan, nan, nan, nan, nan, nan, nan, nan, nan, nan, nan, nan, nan, nan, nan, nan, nan, nan, nan, nan, nan, nan, nan, nan, nan, nan, nan, nan, nan, nan, nan, nan, nan, nan, nan, nan, nan, nan, nan, nan, nan, nan, nan, nan, nan, nan, nan, nan, nan, nan, nan, nan, nan, nan, nan, nan, nan, nan, nan, nan, nan, nan, nan, nan, nan, nan, nan, nan, nan, nan, nan, nan, nan, nan, nan, nan, nan, nan, nan, nan, nan, nan, nan, nan, nan, nan, nan, nan, nan, nan, nan, nan, nan, nan, nan, nan, nan, nan, nan, nan, nan, nan, nan, nan, nan, nan, nan, nan, nan, nan, nan, nan, nan, nan, nan, nan, nan, nan, nan, nan, nan, nan, nan, nan, nan, nan, nan, nan, nan, nan, nan, nan, nan, nan, nan, nan, nan, nan, nan, nan, nan, nan, nan, nan, 3228.6258269913087, 3427.0076038471907, 3715.605069071894, 3199.075266867661, 3560.441535944222, 3294.414574972916, 3155.768176455928, 4143.653684627184, 3820.853003557039, 3248.6172498875803, 3118.3401323664793, 4044.31727145899, 4038.4509394034862, 3268.8346190910866, 3532.230722534524, 3248.6172498875803, 3199.075266867661, 3566.1065843063657, 3199.075266867661, 3064.159892914854, 3136.926092639781, 4009.0920123851606, 3081.9532794975567, 3273.9235426657656, 3768.107944412182, 3294.414574972916, 3487.5209268106896, 3785.667112755046, 3248.6172498875803, 3991.458090280988, 3141.6127551956133, 3233.60231355615, 3122.962304484789, 3504.2222651057464, 3432.459113801005, 3194.202332644305, 3233.60231355615, 3243.598025004286, 2939.5261482287956, 3253.650720877026]\n"
     ]
    },
    {
     "data": {
      "image/png": "[encoded data removed]",
      "text/plain": [
       "<Figure size 432x288 with 1 Axes>"
      ]
     },
     "metadata": {
      "needs_background": "light"
     },
     "output_type": "display_data"
    }
   ],
   "source": [
    "plot_forecast(df['Close'].values,trainPredict.reshape(-1,1),testPredict.reshape(-1,1))"
   ]
  },
  {
   "cell_type": "code",
   "execution_count": null,
   "metadata": {},
   "outputs": [],
   "source": []
  },
  {
   "cell_type": "code",
   "execution_count": null,
   "metadata": {},
   "outputs": [],
   "source": []
  }
 ],
 "metadata": {
  "kernelspec": {
   "display_name": "Python 3",
   "language": "python",
   "name": "python3"
  },
  "language_info": {
   "codemirror_mode": {
    "name": "ipython",
    "version": 3
   },
   "file_extension": ".py",
   "mimetype": "text/x-python",
   "name": "python",
   "nbconvert_exporter": "python",
   "pygments_lexer": "ipython3",
   "version": "3.8.3"
  }
 },
 "nbformat": 4,
 "nbformat_minor": 4
}
