{
 "cells": [
  {
   "cell_type": "code",
   "execution_count": 19,
   "metadata": {},
   "outputs": [],
   "source": [
    "#Install the dependencies\n",
    "import numpy as np \n",
    "import pandas as pd \n",
    "from sklearn.linear_model import LinearRegression\n",
    "from sklearn.svm import SVR\n",
    "from sklearn.model_selection import train_test_split\n",
    "import matplotlib.pyplot as plt\n",
    "import math"
   ]
  },
  {
   "cell_type": "code",
   "execution_count": 20,
   "metadata": {},
   "outputs": [
    {
     "name": "stdout",
     "output_type": "stream",
     "text": [
      "             Close\n",
      "Date              \n",
      "2020-01-20  4660.0\n",
      "2020-01-21  4670.0\n",
      "2020-01-22  4710.0\n",
      "2020-01-23  4740.0\n",
      "2020-01-24  4740.0\n",
      "...            ...\n",
      "2020-11-09  3690.0\n",
      "2020-11-10  4000.0\n",
      "2020-11-11  4120.0\n",
      "2020-11-12  3950.0\n",
      "2020-11-13  4000.0\n",
      "\n",
      "[200 rows x 1 columns]\n"
     ]
    }
   ],
   "source": [
    "# load the dataset\n",
    "raw = pd.read_csv('C:/Users/User/Downloads/bbri.csv', sep=',', header=0, index_col=0, engine='python', usecols=[0, 4], parse_dates=True)\n",
    "dataframe = pd.read_csv('C:/Users/User/Downloads/bbri.csv', sep=',', usecols=[4], engine='python')\n",
    "dataset = dataframe.values\n",
    "dataset = dataset.astype('float')\n",
    "print(raw)"
   ]
  },
  {
   "cell_type": "code",
   "execution_count": 3,
   "metadata": {},
   "outputs": [
    {
     "name": "stdout",
     "output_type": "stream",
     "text": [
      "             Close  Prediction\n",
      "Date                          \n",
      "2020-11-09  3690.0         NaN\n",
      "2020-11-10  4000.0         NaN\n",
      "2020-11-11  4120.0         NaN\n",
      "2020-11-12  3950.0         NaN\n",
      "2020-11-13  4000.0         NaN\n"
     ]
    }
   ],
   "source": [
    "# A variable for predicting 'n' days out into the future\n",
    "forecast_out = 30 #'n=30' days\n",
    "#Create another column (the target ) shifted 'n' units up\n",
    "raw['Prediction'] = raw[['Close']].shift(-forecast_out)\n",
    "#print the new data set\n",
    "print(raw.tail())"
   ]
  },
  {
   "cell_type": "code",
   "execution_count": 4,
   "metadata": {},
   "outputs": [
    {
     "name": "stdout",
     "output_type": "stream",
     "text": [
      "[[4660.]\n",
      " [4670.]\n",
      " [4710.]\n",
      " [4740.]\n",
      " [4740.]\n",
      " [4650.]\n",
      " [4620.]\n",
      " [4620.]\n",
      " [4580.]\n",
      " [4460.]\n",
      " [4460.]\n",
      " [4560.]\n",
      " [4560.]\n",
      " [4550.]\n",
      " [4550.]\n",
      " [4500.]\n",
      " [4510.]\n",
      " [4530.]\n",
      " [4570.]\n",
      " [4550.]\n",
      " [4470.]\n",
      " [4400.]\n",
      " [4480.]\n",
      " [4560.]\n",
      " [4510.]\n",
      " [4490.]\n",
      " [4500.]\n",
      " [4480.]\n",
      " [4130.]\n",
      " [4190.]\n",
      " [3980.]\n",
      " [4100.]\n",
      " [4220.]\n",
      " [4150.]\n",
      " [4010.]\n",
      " [3750.]\n",
      " [3910.]\n",
      " [3910.]\n",
      " [3610.]\n",
      " [3720.]\n",
      " [3500.]\n",
      " [3260.]\n",
      " [3140.]\n",
      " [2930.]\n",
      " [2810.]\n",
      " [2620.]\n",
      " [2440.]\n",
      " [2940.]\n",
      " [3230.]\n",
      " [3010.]\n",
      " [3020.]\n",
      " [2930.]\n",
      " [2870.]\n",
      " [2890.]\n",
      " [3020.]\n",
      " [3030.]\n",
      " [2820.]\n",
      " [2790.]\n",
      " [2770.]\n",
      " [2900.]\n",
      " [2760.]\n",
      " [2610.]\n",
      " [2830.]\n",
      " [2780.]\n",
      " [2720.]\n",
      " [2790.]\n",
      " [2800.]\n",
      " [2630.]\n",
      " [2660.]\n",
      " [2590.]\n",
      " [2580.]\n",
      " [2730.]\n",
      " [2630.]\n",
      " [2630.]\n",
      " [2620.]\n",
      " [2590.]\n",
      " [2620.]\n",
      " [2490.]\n",
      " [2470.]\n",
      " [2350.]\n",
      " [2240.]\n",
      " [2170.]\n",
      " [2370.]\n",
      " [2480.]\n",
      " [2520.]\n",
      " [2630.]\n",
      " [2730.]\n",
      " [2950.]\n",
      " [3180.]\n",
      " [3100.]\n",
      " [3060.]\n",
      " [3110.]\n",
      " [3300.]\n",
      " [3210.]\n",
      " [3030.]\n",
      " [2970.]\n",
      " [3030.]\n",
      " [2900.]\n",
      " [3130.]\n",
      " [3100.]\n",
      " [3050.]\n",
      " [3100.]\n",
      " [3060.]\n",
      " [3010.]\n",
      " [3120.]\n",
      " [3060.]\n",
      " [3030.]\n",
      " [3040.]\n",
      " [3030.]\n",
      " [3060.]\n",
      " [3060.]\n",
      " [3050.]\n",
      " [3040.]\n",
      " [3030.]\n",
      " [3190.]\n",
      " [3140.]\n",
      " [3110.]\n",
      " [3160.]\n",
      " [3170.]\n",
      " [3130.]\n",
      " [3140.]\n",
      " [3100.]\n",
      " [3050.]\n",
      " [3150.]\n",
      " [3100.]\n",
      " [3140.]\n",
      " [3090.]\n",
      " [3150.]\n",
      " [3140.]\n",
      " [3120.]\n",
      " [3160.]\n",
      " [2990.]\n",
      " [3080.]\n",
      " [3080.]\n",
      " [3110.]\n",
      " [3110.]\n",
      " [3130.]\n",
      " [3190.]\n",
      " [3350.]\n",
      " [3330.]\n",
      " [3340.]\n",
      " [3520.]\n",
      " [3560.]\n",
      " [3640.]\n",
      " [3800.]\n",
      " [3740.]\n",
      " [3700.]\n",
      " [3690.]\n",
      " [3510.]\n",
      " [3610.]\n",
      " [3660.]\n",
      " [3580.]\n",
      " [3550.]\n",
      " [3510.]\n",
      " [3520.]\n",
      " [3410.]\n",
      " [3180.]\n",
      " [3250.]\n",
      " [3440.]\n",
      " [3330.]\n",
      " [3260.]\n",
      " [3200.]\n",
      " [3220.]\n",
      " [3190.]\n",
      " [3130.]\n",
      " [3080.]\n",
      " [3030.]\n",
      " [3160.]\n",
      " [3090.]\n",
      " [3040.]]\n"
     ]
    }
   ],
   "source": [
    "### Create the independent data set (X)  #######\n",
    "# Convert the dataframe to a numpy array\n",
    "X = np.array(raw.drop(['Prediction'],1))\n",
    "\n",
    "#Remove the last '30' rows\n",
    "X = X[:-forecast_out]\n",
    "print(X)"
   ]
  },
  {
   "cell_type": "code",
   "execution_count": 5,
   "metadata": {},
   "outputs": [
    {
     "name": "stdout",
     "output_type": "stream",
     "text": [
      "[3980. 4100. 4220. 4150. 4010. 3750. 3910. 3910. 3610. 3720. 3500. 3260.\n",
      " 3140. 2930. 2810. 2620. 2440. 2940. 3230. 3010. 3020. 2930. 2870. 2890.\n",
      " 3020. 3030. 2820. 2790. 2770. 2900. 2760. 2610. 2830. 2780. 2720. 2790.\n",
      " 2800. 2630. 2660. 2590. 2580. 2730. 2630. 2630. 2620. 2590. 2620. 2490.\n",
      " 2470. 2350. 2240. 2170. 2370. 2480. 2520. 2630. 2730. 2950. 3180. 3100.\n",
      " 3060. 3110. 3300. 3210. 3030. 2970. 3030. 2900. 3130. 3100. 3050. 3100.\n",
      " 3060. 3010. 3120. 3060. 3030. 3040. 3030. 3060. 3060. 3050. 3040. 3030.\n",
      " 3190. 3140. 3110. 3160. 3170. 3130. 3140. 3100. 3050. 3150. 3100. 3140.\n",
      " 3090. 3150. 3140. 3120. 3160. 2990. 3080. 3080. 3110. 3110. 3130. 3190.\n",
      " 3350. 3330. 3340. 3520. 3560. 3640. 3800. 3740. 3700. 3690. 3510. 3610.\n",
      " 3660. 3580. 3550. 3510. 3520. 3410. 3180. 3250. 3440. 3330. 3260. 3200.\n",
      " 3220. 3190. 3130. 3080. 3030. 3160. 3090. 3040. 3040. 3160. 3100. 3160.\n",
      " 3190. 3120. 3150. 3150. 3190. 3280. 3360. 3310. 3250. 3280. 3250. 3240.\n",
      " 3300. 3290. 3340. 3360. 3380. 3380. 3290. 3490. 3560. 3690. 4000. 4120.\n",
      " 3950. 4000.]\n"
     ]
    }
   ],
   "source": [
    "### Create the dependent data set (y)  #####\n",
    "# Convert the dataframe to a numpy array \n",
    "y = np.array(raw['Prediction'])\n",
    "# Get all of the y values except the last '30' rows\n",
    "y = y[:-forecast_out]\n",
    "print(y)"
   ]
  },
  {
   "cell_type": "code",
   "execution_count": 6,
   "metadata": {},
   "outputs": [],
   "source": [
    "x_train, x_test, y_train, y_test = train_test_split(X, y, test_size=0.2)"
   ]
  },
  {
   "cell_type": "code",
   "execution_count": 7,
   "metadata": {},
   "outputs": [
    {
     "data": {
      "text/plain": [
       "SVR(C=1000.0, gamma=0.1)"
      ]
     },
     "execution_count": 7,
     "metadata": {},
     "output_type": "execute_result"
    }
   ],
   "source": [
    "# Create and train the Support Vector Machine (Regressor) \n",
    "svr_rbf = SVR(kernel='rbf', C=1e3, gamma=0.1) \n",
    "svr_rbf.fit(x_train, y_train)"
   ]
  },
  {
   "cell_type": "code",
   "execution_count": 8,
   "metadata": {
    "scrolled": false
   },
   "outputs": [
    {
     "name": "stdout",
     "output_type": "stream",
     "text": [
      "svm confidence:  0.10759494408196035\n"
     ]
    }
   ],
   "source": [
    "# Testing Model: Score returns the coefficient of determination R^2 of the prediction. \n",
    "# The best possible score is 1.0\n",
    "svm_confidence = svr_rbf.score(x_test, y_test)\n",
    "print(\"svm confidence: \", svm_confidence)"
   ]
  },
  {
   "cell_type": "code",
   "execution_count": 11,
   "metadata": {},
   "outputs": [
    {
     "name": "stdout",
     "output_type": "stream",
     "text": [
      "[[3040.]\n",
      " [3160.]\n",
      " [3100.]\n",
      " [3160.]\n",
      " [3190.]\n",
      " [3120.]\n",
      " [3150.]\n",
      " [3150.]\n",
      " [3190.]\n",
      " [3280.]\n",
      " [3360.]\n",
      " [3310.]\n",
      " [3250.]\n",
      " [3280.]\n",
      " [3250.]\n",
      " [3240.]\n",
      " [3300.]\n",
      " [3290.]\n",
      " [3340.]\n",
      " [3360.]\n",
      " [3380.]\n",
      " [3380.]\n",
      " [3290.]\n",
      " [3490.]\n",
      " [3560.]\n",
      " [3690.]\n",
      " [4000.]\n",
      " [4120.]\n",
      " [3950.]\n",
      " [4000.]]\n"
     ]
    }
   ],
   "source": [
    "# Set x_forecast equal to the last 30 rows of the original data set from Adj. Close column\n",
    "x_forecast = np.array(raw.drop(['Prediction'],1))[-forecast_out:]\n",
    "print(x_forecast)"
   ]
  },
  {
   "cell_type": "code",
   "execution_count": 12,
   "metadata": {},
   "outputs": [
    {
     "name": "stdout",
     "output_type": "stream",
     "text": [
      "[3114.42385622 3127.16682847 3120.79534235 3127.16682847 3130.35257154\n",
      " 3122.91917105 3126.10491412 3126.10491412 3130.35257154 3139.90980073\n",
      " 3148.40511557 3143.0955438  3136.72405767 3139.90980073 3136.72405767\n",
      " 3135.66214331 3142.03362944 3140.97171509 3146.28128686 3148.40511557\n",
      " 3150.52894428 3150.52894428 3140.97171509 3162.21000218 3169.64340267\n",
      " 3183.44828928 3216.36763428 3229.11060654 3211.05806251 3216.36763428]\n",
      "[3559.89979677 3690.09983472 3139.05282097 3690.09983472 3160.10017714\n",
      " 3139.01600709 3509.8998581  3509.8998581  3160.10017714 3139.01642098\n",
      " 3139.01420038 3139.01642098 3289.90050265 3139.01642098 3289.90050265\n",
      " 3138.99290203 3139.01642098 3139.01642098 3040.09979393 3139.01420038\n",
      " 3139.01642098 3139.01642098 3139.01642098 3138.99104614 3100.10037241\n",
      " 3139.01691509 3139.01642098 3138.9996722  3139.01642098 3139.01642098]\n"
     ]
    }
   ],
   "source": [
    "# Print support vector regressor model predictions for the next '30' days\n",
    "svm_prediction = svr_rbf.predict(x_forecast)\n",
    "print(svm_prediction)"
   ]
  },
  {
   "cell_type": "code",
   "execution_count": 15,
   "metadata": {},
   "outputs": [
    {
     "data": {
      "text/plain": [
       "[<matplotlib.lines.Line2D at 0x1ee889845e0>]"
      ]
     },
     "execution_count": 15,
     "metadata": {},
     "output_type": "execute_result"
    },
    {
     "data": {
      "image/png": "[encoded data removed]",
      "text/plain": [
       "<Figure size 432x288 with 1 Axes>"
      ]
     },
     "metadata": {
      "needs_background": "light"
     },
     "output_type": "display_data"
    }
   ],
   "source": [
    "# menampilkan grafik\n",
    "plt.plot(svm_prediction)"
   ]
  }
 ],
 "metadata": {
  "kernelspec": {
   "display_name": "Python 3",
   "language": "python",
   "name": "python3"
  },
  "language_info": {
   "codemirror_mode": {
    "name": "ipython",
    "version": 3
   },
   "file_extension": ".py",
   "mimetype": "text/x-python",
   "name": "python",
   "nbconvert_exporter": "python",
   "pygments_lexer": "ipython3",
   "version": "3.8.3"
  }
 },
 "nbformat": 4,
 "nbformat_minor": 4
}
